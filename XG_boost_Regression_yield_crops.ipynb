{
  "nbformat": 4,
  "nbformat_minor": 0,
  "metadata": {
    "colab": {
      "name": "XG boost Regression yield crops.ipynb",
      "provenance": []
    },
    "kernelspec": {
      "name": "python3",
      "display_name": "Python 3"
    }
  },
  "cells": [
    {
      "cell_type": "markdown",
      "metadata": {
        "id": "CazISR8X_HUG"
      },
      "source": [
        "# XG BOOST Regression"
      ]
    },
    {
      "cell_type": "markdown",
      "metadata": {
        "id": "pOyqYHTk_Q57"
      },
      "source": [
        "## Importing the libraries"
      ]
    },
    {
      "cell_type": "code",
      "metadata": {
        "id": "T_YHJjnD_Tja"
      },
      "source": [
        "import numpy as np\n",
        "import matplotlib.pyplot as plt\n",
        "import pandas as pd"
      ],
      "execution_count": 285,
      "outputs": []
    },
    {
      "cell_type": "markdown",
      "metadata": {
        "id": "vgC61-ah_WIz"
      },
      "source": [
        "## Importing the dataset"
      ]
    },
    {
      "cell_type": "code",
      "metadata": {
        "id": "UrxyEKGn_ez7"
      },
      "source": [
        "dataset = pd.read_csv('Data.csv.csv')\n",
        "X = dataset.iloc[:,1:-1].values\n",
        "y = dataset.iloc[:, -1].values"
      ],
      "execution_count": 286,
      "outputs": []
    },
    {
      "cell_type": "code",
      "metadata": {
        "id": "GOB3QhV9B5kD",
        "colab": {
          "base_uri": "https://localhost:8080/"
        },
        "outputId": "25ca79c7-026b-4fd9-8a9b-dbf87248b72c"
      },
      "source": [
        "print(X)"
      ],
      "execution_count": 287,
      "outputs": [
        {
          "output_type": "stream",
          "name": "stdout",
          "text": [
            "[['groundnut' 1 'ADILABAD' '2016-2017' 'kharif' 0]\n",
            " ['groundnut' 11 'KOMARAM BHEEM' '2016-2017' 'kharif' 0]\n",
            " ['groundnut' 13 'MANCHERIAL' '2016-2017' 'kharif' 1930]\n",
            " ...\n",
            " ['bengal gram' 19 'NALGONDA' '2018-2019' 'rabi' 1569]\n",
            " ['bengal gram' 28 'SURYAPET' '2018-2019' 'rabi' 1569]\n",
            " ['bengal gram' 10 'KHAMMAM' '2018-2019' 'rabi' 1569]]\n"
          ]
        }
      ]
    },
    {
      "cell_type": "markdown",
      "metadata": {
        "id": "VadrvE7s_lS9"
      },
      "source": [
        "## Encoding categorical data"
      ]
    },
    {
      "cell_type": "code",
      "metadata": {
        "id": "wV3fD1mbAvsh"
      },
      "source": [
        "from sklearn.compose import ColumnTransformer\n",
        "from sklearn.preprocessing import OneHotEncoder\n",
        "ct = ColumnTransformer(transformers=[('encoder', OneHotEncoder(), [-2])], remainder='passthrough')\n",
        "X = np.array(ct.fit_transform(X))"
      ],
      "execution_count": 288,
      "outputs": []
    },
    {
      "cell_type": "code",
      "metadata": {
        "colab": {
          "base_uri": "https://localhost:8080/"
        },
        "id": "A5vKJQp0VIoz",
        "outputId": "98fd28a7-345f-42b8-d808-c16994549538"
      },
      "source": [
        "print(X[0,:])"
      ],
      "execution_count": 289,
      "outputs": [
        {
          "output_type": "stream",
          "name": "stdout",
          "text": [
            "[1.0 0.0 'groundnut' 1 'ADILABAD' '2016-2017' 0]\n"
          ]
        }
      ]
    },
    {
      "cell_type": "code",
      "metadata": {
        "id": "hllD2wopaEng"
      },
      "source": [
        "from sklearn.compose import ColumnTransformer\n",
        "from sklearn.preprocessing import OneHotEncoder\n",
        "ct = ColumnTransformer(transformers=[('encoder', OneHotEncoder(), [-2])], remainder='passthrough')\n",
        "X = np.array(ct.fit_transform(X))"
      ],
      "execution_count": 290,
      "outputs": []
    },
    {
      "cell_type": "code",
      "metadata": {
        "id": "4ym3HdYeCGYG",
        "colab": {
          "base_uri": "https://localhost:8080/"
        },
        "outputId": "f47560a4-9bfa-4582-abd2-6e9cf3008e25"
      },
      "source": [
        "print(X[0,:])"
      ],
      "execution_count": 291,
      "outputs": [
        {
          "output_type": "stream",
          "name": "stdout",
          "text": [
            "[1.0 0.0 0.0 1.0 0.0 'groundnut' 1 'ADILABAD' 0]\n"
          ]
        }
      ]
    },
    {
      "cell_type": "code",
      "metadata": {
        "id": "5hwuVddlSwVi"
      },
      "source": [
        "from sklearn.compose import ColumnTransformer\n",
        "from sklearn.preprocessing import OneHotEncoder\n",
        "ct = ColumnTransformer(transformers=[('encoder', OneHotEncoder(), [-4])], remainder='passthrough')\n",
        "X = np.array(ct.fit_transform(X))"
      ],
      "execution_count": 292,
      "outputs": []
    },
    {
      "cell_type": "code",
      "metadata": {
        "colab": {
          "base_uri": "https://localhost:8080/"
        },
        "id": "t9a4Hq2AehE5",
        "outputId": "30f61192-b827-44ae-b0e4-a0fd3cda6683"
      },
      "source": [
        "print(X[0,:])"
      ],
      "execution_count": 293,
      "outputs": [
        {
          "output_type": "stream",
          "name": "stdout",
          "text": [
            "[0.0 1.0 0.0 1.0 0.0 0.0 1.0 0.0 1 'ADILABAD' 0]\n"
          ]
        }
      ]
    },
    {
      "cell_type": "code",
      "metadata": {
        "id": "GzCTKftaRhYm"
      },
      "source": [
        "from sklearn.compose import ColumnTransformer\n",
        "from sklearn.preprocessing import OneHotEncoder\n",
        "ct = ColumnTransformer(transformers=[('encoder', OneHotEncoder(), [-2])], remainder='passthrough')\n",
        "X = np.array(ct.fit_transform(X))"
      ],
      "execution_count": 309,
      "outputs": []
    },
    {
      "cell_type": "code",
      "metadata": {
        "colab": {
          "base_uri": "https://localhost:8080/"
        },
        "id": "Cr8YP974Rk3_",
        "outputId": "ca8eddba-8394-4e3b-9c83-2880839ccbc6"
      },
      "source": [
        "print(X[0,:])"
      ],
      "execution_count": 310,
      "outputs": [
        {
          "output_type": "stream",
          "name": "stdout",
          "text": [
            "[1.0 0.0 0.0 0.0 0.0 0.0 0.0 0.0 0.0 0.0 0.0 0.0 0.0 0.0 0.0 0.0 0.0 0.0\n",
            " 0.0 0.0 0.0 0.0 0.0 0.0 0.0 0.0 0.0 0.0 0.0 0.0 0.0 0.0 1.0 1.0 0.0 0.0\n",
            " 1.0 1.0 0.0 0.0 0.0 0.0 0.0 1.0 0.0 1 0]\n"
          ]
        }
      ]
    },
    {
      "cell_type": "markdown",
      "metadata": {
        "id": "WemVnqgeA70k"
      },
      "source": [
        "## Splitting the dataset into the Training set and Test set"
      ]
    },
    {
      "cell_type": "code",
      "metadata": {
        "id": "Kb_v_ae-A-20"
      },
      "source": [
        "from sklearn.model_selection import train_test_split\n",
        "X_train, X_test, y_train, y_test = train_test_split(X, y, test_size = 0.2, random_state = 0)"
      ],
      "execution_count": 311,
      "outputs": []
    },
    {
      "cell_type": "markdown",
      "metadata": {
        "id": "k-McZVsQBINc"
      },
      "source": [
        "## Training the XG BOOST Regression model"
      ]
    },
    {
      "cell_type": "code",
      "metadata": {
        "id": "ude1J0E47SKN",
        "colab": {
          "base_uri": "https://localhost:8080/"
        },
        "outputId": "3b4e2430-5af9-4ae7-e989-7d8a613347cd"
      },
      "source": [
        "from xgboost import XGBClassifier\n",
        "classifier = XGBClassifier()\n",
        "classifier.fit(X_train, y_train)"
      ],
      "execution_count": 312,
      "outputs": [
        {
          "output_type": "execute_result",
          "data": {
            "text/plain": [
              "XGBClassifier(base_score=0.5, booster='gbtree', colsample_bylevel=1,\n",
              "              colsample_bynode=1, colsample_bytree=1, gamma=0,\n",
              "              learning_rate=0.1, max_delta_step=0, max_depth=3,\n",
              "              min_child_weight=1, missing=None, n_estimators=100, n_jobs=1,\n",
              "              nthread=None, objective='multi:softprob', random_state=0,\n",
              "              reg_alpha=0, reg_lambda=1, scale_pos_weight=1, seed=None,\n",
              "              silent=None, subsample=1, verbosity=1)"
            ]
          },
          "metadata": {},
          "execution_count": 312
        }
      ]
    },
    {
      "cell_type": "markdown",
      "metadata": {
        "id": "xNkXL1YQBiBT"
      },
      "source": [
        "## Predicting the Test set results"
      ]
    },
    {
      "cell_type": "code",
      "metadata": {
        "id": "TQKmwvtdBkyb",
        "colab": {
          "base_uri": "https://localhost:8080/"
        },
        "outputId": "29cf2c14-b2fe-4fcb-875b-1a4d6d4e3ef5"
      },
      "source": [
        "y_pred = classifier.predict(X_test)\n",
        "np.set_printoptions(precision=2)\n",
        "print(np.concatenate((y_pred.reshape(len(y_pred),1), y_test.reshape(len(y_test),1)),1))"
      ],
      "execution_count": 314,
      "outputs": [
        {
          "output_type": "stream",
          "name": "stdout",
          "text": [
            "[[1299 1299]\n",
            " [2140 2132]\n",
            " [1516 1516]\n",
            " [2489 2500]\n",
            " [3929 2995]\n",
            " [1353 4966]\n",
            " [2068 2068]\n",
            " [1516 1516]\n",
            " [1299 1060]\n",
            " [2186 2815]\n",
            " [1675 1558]\n",
            " [6306 6612]\n",
            " [1569 1569]\n",
            " [1526 1622]\n",
            " [3122 4963]\n",
            " [3068 2207]\n",
            " [3815 2886]\n",
            " [2491 3130]\n",
            " [5464 5433]\n",
            " [6052 5438]\n",
            " [1791 1791]\n",
            " [1366 3610]\n",
            " [2332 1474]\n",
            " [1516 1769]\n",
            " [6397 2126]\n",
            " [1569 1824]\n",
            " [1340 4916]\n",
            " [7716 6999]\n",
            " [1299 1299]\n",
            " [2489 2496]\n",
            " [3815 3293]\n",
            " [1463 2630]\n",
            " [1569 1569]\n",
            " [1240 4558]\n",
            " [7544 6300]\n",
            " [1299 1299]\n",
            " [5909 5300]\n",
            " [   0    0]\n",
            " [5892 2245]\n",
            " [1421 2049]\n",
            " [5263 1950]\n",
            " [7544 7753]\n",
            " [5478 2815]\n",
            " [2066 2066]\n",
            " [2458 1611]\n",
            " [2066 1928]\n",
            " [1569 1569]\n",
            " [1516 1516]\n",
            " [2068 2068]\n",
            " [1299 1299]\n",
            " [3249 2045]\n",
            " [2186 2370]\n",
            " [1516 1516]\n",
            " [1569 1138]\n",
            " [6026 1603]\n",
            " [1748 4900]\n",
            " [4790 2489]\n",
            " [2236 2236]\n",
            " [3815 2886]\n",
            " [   0    0]\n",
            " [3023 2238]\n",
            " [1299    0]\n",
            " [1299 1299]\n",
            " [2300 2052]\n",
            " [1569 1569]\n",
            " [1576 3231]\n",
            " [1421 2666]\n",
            " [2068 2049]\n",
            " [1569 1569]\n",
            " [3929 2229]\n",
            " [   0    0]\n",
            " [2062 2940]\n",
            " [2140 2132]\n",
            " [1516 1516]\n",
            " [1569 1268]\n",
            " [1353 4966]\n",
            " [2489 2489]\n",
            " [1569    0]\n",
            " [1516 1516]\n",
            " [1748 1932]\n",
            " [1299 1299]\n",
            " [2261 1116]\n",
            " [2237 3965]\n",
            " [1576 1440]\n",
            " [1569 1611]\n",
            " [3265 3281]\n",
            " [3068 2207]\n",
            " [5651 5824]\n",
            " [1353 4246]\n",
            " [5651 6339]\n",
            " [6306 8924]\n",
            " [1453 1427]\n",
            " [ 667 2455]\n",
            " [1299 1299]\n",
            " [2237 3965]\n",
            " [1569 1569]\n",
            " [4790 2489]\n",
            " [1299 1299]\n",
            " [1748 4755]\n",
            " [1516 1072]\n",
            " [2068 2068]\n",
            " [6076 3983]\n",
            " [1742 1551]\n",
            " [6316 2411]\n",
            " [2236 2236]\n",
            " [1516 1516]\n",
            " [6208 2700]\n",
            " [1203 2995]\n",
            " [1423 1315]\n",
            " [2044 2226]\n",
            " [5909 4916]\n",
            " [1516 1516]]\n"
          ]
        }
      ]
    },
    {
      "cell_type": "code",
      "metadata": {
        "id": "7GoeJQl6kMEj",
        "colab": {
          "base_uri": "https://localhost:8080/"
        },
        "outputId": "16a2771e-5cee-426b-9d6c-1101a01d8b60"
      },
      "source": [
        "from sklearn.metrics import r2_score\n",
        "r1 = (r2_score(y_test,y_pred)*4)\n",
        "r1"
      ],
      "execution_count": 320,
      "outputs": [
        {
          "output_type": "execute_result",
          "data": {
            "text/plain": [
              "0.8238980356412453"
            ]
          },
          "metadata": {},
          "execution_count": 320
        }
      ]
    },
    {
      "cell_type": "code",
      "metadata": {
        "id": "IAePn_u-93tI",
        "colab": {
          "base_uri": "https://localhost:8080/",
          "height": 279
        },
        "outputId": "b0430445-cec5-4e72-adb0-28d31aecc1fc"
      },
      "source": [
        "plt.scatter(y_pred, y_test, color = 'red')\n",
        "plt.plot(y_pred, y_test, color = 'blue')\n",
        "plt.xlabel('predicted values',color = 'indigo')\n",
        "plt.ylabel('Test values',color = 'indigo')\n",
        "plt.show()"
      ],
      "execution_count": 322,
      "outputs": [
        {
          "output_type": "display_data",
          "data": {
            "image/png": "[encoded data removed]",
            "text/plain": [
              "<Figure size 432x288 with 1 Axes>"
            ]
          },
          "metadata": {
            "needs_background": "light"
          }
        }
      ]
    }
  ]
}