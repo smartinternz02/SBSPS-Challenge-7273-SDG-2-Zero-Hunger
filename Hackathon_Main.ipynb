{
  "nbformat": 4,
  "nbformat_minor": 0,
  "metadata": {
    "colab": {
      "name": "Hackathon_Main.ipynb",
      "provenance": [],
      "collapsed_sections": []
    },
    "kernelspec": {
      "display_name": "Python 3",
      "name": "python3"
    },
    "language_info": {
      "name": "python"
    }
  },
  "cells": [
    {
      "cell_type": "markdown",
      "metadata": {
        "id": "f5OULtTm340u"
      },
      "source": [
        "Libraries"
      ]
    },
    {
      "cell_type": "code",
      "metadata": {
        "id": "ZhqJDnn5310l"
      },
      "source": [
        "import numpy as np\n",
        "import pandas as pd\n",
        "import matplotlib as plt\n",
        "from google.colab import files\n",
        "import io"
      ],
      "execution_count": 30,
      "outputs": []
    },
    {
      "cell_type": "code",
      "metadata": {
        "id": "47prwqjA7off"
      },
      "source": [
        "from sklearn.ensemble import RandomForestRegressor\n",
        "from sklearn.model_selection import train_test_split\n",
        "from sklearn import preprocessing \n",
        "from sklearn.preprocessing import LabelEncoder"
      ],
      "execution_count": 2,
      "outputs": []
    },
    {
      "cell_type": "markdown",
      "metadata": {
        "id": "1GKDsHaq4HBQ"
      },
      "source": [
        "Upload datasets"
      ]
    },
    {
      "cell_type": "code",
      "metadata": {
        "id": "0wjrGrWH4GZT",
        "colab": {
          "resources": {
            "http://localhost:8080/nbextensions/google.colab/files.js": {
              "data": "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",
              "ok": true,
              "headers": [
                [
                  "content-type",
                  "application/javascript"
                ]
              ],
              "status": 200,
              "status_text": ""
            }
          },
          "base_uri": "https://localhost:8080/",
          "height": 213
        },
        "outputId": "039a44bb-b8ad-4d59-a830-087c792f29e4"
      },
      "source": [
        "uploaded=files.upload()\n",
        "yld1=pd.read_excel(io.BytesIO(uploaded['1_yield_data (2).xlsx']))\n",
        "yld2=pd.read_excel(io.BytesIO(uploaded['yeild 2016-17.xlsx']))\n",
        "yld3=pd.read_excel(io.BytesIO(uploaded['yeild 2017-18.xlsx']))\n",
        "yld4=pd.read_excel(io.BytesIO(uploaded['yeild 2018-19.xlsx']))\n"
      ],
      "execution_count": 9,
      "outputs": [
        {
          "output_type": "display_data",
          "data": {
            "text/html": [
              "\n",
              "     <input type=\"file\" id=\"files-38731d59-b17b-4037-8264-94fc6cefe039\" name=\"files[]\" multiple disabled\n",
              "        style=\"border:none\" />\n",
              "     <output id=\"result-38731d59-b17b-4037-8264-94fc6cefe039\">\n",
              "      Upload widget is only available when the cell has been executed in the\n",
              "      current browser session. Please rerun this cell to enable.\n",
              "      </output>\n",
              "      <script src=\"/nbextensions/google.colab/files.js\"></script> "
            ],
            "text/plain": [
              "<IPython.core.display.HTML object>"
            ]
          },
          "metadata": {}
        },
        {
          "output_type": "stream",
          "name": "stdout",
          "text": [
            "Saving 1_yield_data (2).xlsx to 1_yield_data (2) (1).xlsx\n",
            "Saving data.csv to data (1).csv\n",
            "Saving yeild 2016-17.xlsx to yeild 2016-17 (1).xlsx\n",
            "Saving yeild 2017-18.xlsx to yeild 2017-18 (1).xlsx\n",
            "Saving yeild 2018-19.xlsx to yeild 2018-19 (1).xlsx\n"
          ]
        }
      ]
    },
    {
      "cell_type": "code",
      "metadata": {
        "colab": {
          "resources": {
            "http://localhost:8080/nbextensions/google.colab/files.js": {
              "data": "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",
              "ok": true,
              "headers": [
                [
                  "content-type",
                  "application/javascript"
                ]
              ],
              "status": 200,
              "status_text": ""
            }
          },
          "base_uri": "https://localhost:8080/",
          "height": 74
        },
        "id": "rzQXoB8NQGvn",
        "outputId": "2424ad9b-bdff-4017-825a-22bc2be26241"
      },
      "source": [
        "upload=files.upload()\n",
        "final = pd.read_excel(io.BytesIO(upload['final.xlsx']))\n"
      ],
      "execution_count": 7,
      "outputs": [
        {
          "output_type": "display_data",
          "data": {
            "text/html": [
              "\n",
              "     <input type=\"file\" id=\"files-9b69e4e3-cc4a-4232-a2ca-5b2c7a52459a\" name=\"files[]\" multiple disabled\n",
              "        style=\"border:none\" />\n",
              "     <output id=\"result-9b69e4e3-cc4a-4232-a2ca-5b2c7a52459a\">\n",
              "      Upload widget is only available when the cell has been executed in the\n",
              "      current browser session. Please rerun this cell to enable.\n",
              "      </output>\n",
              "      <script src=\"/nbextensions/google.colab/files.js\"></script> "
            ],
            "text/plain": [
              "<IPython.core.display.HTML object>"
            ]
          },
          "metadata": {}
        },
        {
          "output_type": "stream",
          "name": "stdout",
          "text": [
            "Saving final.xlsx to final (1).xlsx\n"
          ]
        }
      ]
    },
    {
      "cell_type": "code",
      "metadata": {
        "id": "sPfu3Xpp7UvU",
        "colab": {
          "base_uri": "https://localhost:8080/"
        },
        "outputId": "3b4af52b-34a5-4744-bd9d-7a0985e0c411"
      },
      "source": [
        "w=pd.read_csv(io.BytesIO(uploaded['data.csv']))\n",
        "print(w)\n"
      ],
      "execution_count": 10,
      "outputs": [
        {
          "output_type": "stream",
          "name": "stdout",
          "text": [
            "        Unnamed: 0  Year           District  ... Humidity_max  Wind_min  Wind_max\n",
            "0                0  2019           ADILABAD  ...        81.60       0.0       2.1\n",
            "1                1  2019           ADILABAD  ...        78.30       0.0       7.1\n",
            "2                2  2019           ADILABAD  ...        79.95       0.0       1.4\n",
            "3                3  2019           ADILABAD  ...        94.80       0.0       1.1\n",
            "4                4  2019           ADILABAD  ...        89.10       0.1       2.1\n",
            "...            ...   ...                ...  ...          ...       ...       ...\n",
            "554186      554186  2017  YADADHRI(BHONGIR)  ...        89.40       NaN      10.3\n",
            "554187      554187  2017  YADADHRI(BHONGIR)  ...        61.00       NaN       5.4\n",
            "554188      554188  2017  YADADHRI(BHONGIR)  ...        79.60       NaN       NaN\n",
            "554189      554189  2017  YADADHRI(BHONGIR)  ...        82.70       NaN      12.2\n",
            "554190      554190  2017  YADADHRI(BHONGIR)  ...        80.50       NaN       6.5\n",
            "\n",
            "[554191 rows x 11 columns]\n"
          ]
        }
      ]
    },
    {
      "cell_type": "markdown",
      "metadata": {
        "id": "-W4pO-TV8eHB"
      },
      "source": [
        "PIE CHART"
      ]
    },
    {
      "cell_type": "markdown",
      "metadata": {
        "id": "aJcWO7l58dVG"
      },
      "source": [
        "CROPS BEST FOR A GIVEN SEASON"
      ]
    },
    {
      "cell_type": "code",
      "metadata": {
        "colab": {
          "base_uri": "https://localhost:8080/",
          "height": 352
        },
        "id": "xt41boaf7O2R",
        "outputId": "e392d065-a304-4aec-8daa-76ac4d8857d7"
      },
      "source": [
        "a=input(\"Enter District : \")\n",
        "b=input(\"Enter Season : \")\n",
        "\n",
        "district=yld1['District']==a\n",
        "sea=yld1['Season']==b\n",
        "crop1=yld1['Crop']==\"groundnut\"\n",
        "crop2=yld1['Crop']==\"maize\"\n",
        "crop3=yld1['Crop']==\"bengal gram\"\n",
        "hc=yld1[sea & crop1 & district]\n",
        "hv=yld1[sea & crop2 & district]\n",
        "hk=yld1[sea & crop3 & district]\n",
        "total = hc['Season_yield'].mean()\n",
        "total1  = hv['Season_yield'].mean()\n",
        "total2 = hk['Season_yield'].mean()\n",
        "\n",
        "print(\"\\nGroundNut Average Yield : \",int(total))\n",
        "print(\"Maize Average Yield : \",int(total1))\n",
        "print(\"Bengal Gram Average Yield : \",int(total2))\n",
        "\n",
        "import matplotlib.pyplot as plt\n",
        "sum=total+total1+total2\n",
        "total=total*100/sum\n",
        "total1=total1*100/sum\n",
        "total2=total2*100/sum\n",
        "y=np.array([total,total1,total2])\n",
        "mylabels = [\"groundnut\", \"maize\", \"bengal gram\", ]\n",
        "\n",
        "plt.pie(y, labels = mylabels)\n",
        "plt.show() "
      ],
      "execution_count": 38,
      "outputs": [
        {
          "output_type": "stream",
          "name": "stdout",
          "text": [
            "Enter District : ADILABAD\n",
            "Enter Season : rabi\n",
            "\n",
            "GroundNut Average Yield :  2264\n",
            "Maize Average Yield :  7788\n",
            "Bengal Gram Average Yield :  1717\n"
          ]
        },
        {
          "output_type": "display_data",
          "data": {
            "image/png": "[encoded data removed]",
            "text/plain": [
              "<Figure size 432x288 with 1 Axes>"
            ]
          },
          "metadata": {}
        }
      ]
    },
    {
      "cell_type": "code",
      "metadata": {
        "colab": {
          "base_uri": "https://localhost:8080/"
        },
        "id": "0hQVr4XKBOXp",
        "outputId": "f6dfc990-56f3-4ecd-db6e-031a96784867"
      },
      "source": [
        "w1 = w.iloc[0:0,:].copy()\n",
        "wdist = w['District']\n",
        "wdist = wdist.drop_duplicates()\n",
        "print(wdist)\n",
        "  \n",
        "\n",
        "\n"
      ],
      "execution_count": 11,
      "outputs": [
        {
          "output_type": "stream",
          "name": "stdout",
          "text": [
            "0                     ADILABAD\n",
            "18      KOMARAM BHEEM ASIFABAD\n",
            "33                  MANCHERIAL\n",
            "51                      NIRMAL\n",
            "70                   NIZAMABAD\n",
            "99                     JAGTIAL\n",
            "117                 PEDDAPALLY\n",
            "131    JAYASHANKAR BHUPALPALLY\n",
            "142       BHADRADRI KOTHAGUDEM\n",
            "165               MEHABOOBABAD\n",
            "181                WARANGAL(R)\n",
            "197                WARANGAL(U)\n",
            "208                 KARIMNAGAR\n",
            "224           RAJANNA SIRCILLA\n",
            "237                  KAMAREDDY\n",
            "259                 SANGAREDDY\n",
            "285                      MEDAK\n",
            "305                   SIDDIPET\n",
            "328                    JANGAON\n",
            "340          YADADHRI(BHONGIR)\n",
            "357                    MEDCHAL\n",
            "372                  HYDERABAD\n",
            "388                RANGA REDDY\n",
            "415                  VIKARABAD\n",
            "433              MAHABOOBNAGAR\n",
            "448                  JOGULAMBA\n",
            "460                 WANAPARTHY\n",
            "474               NAGARKURNOOL\n",
            "494                   NALGONDA\n",
            "525                   SURYAPET\n",
            "548                    KHAMMAM\n",
            "569                     MULUGU\n",
            "578                 NARAYANPET\n",
            "Name: District, dtype: object\n"
          ]
        }
      ]
    },
    {
      "cell_type": "markdown",
      "metadata": {
        "id": "ZKFdMFzY8K-q"
      },
      "source": [
        "**DATA SET CLEANING** "
      ]
    },
    {
      "cell_type": "code",
      "metadata": {
        "colab": {
          "base_uri": "https://localhost:8080/"
        },
        "id": "rJXAkXeR1RT2",
        "outputId": "21bf0094-dd72-45f4-9b14-63e22d2865d1"
      },
      "source": [
        "wsen = [\"rabi\",\"kharif\"]\n",
        "wyr = [2019,2018,2017]\n",
        "countx=0\n",
        "#print(wsen)\n",
        "#print(wyr)\n",
        "#print(wdist)\n",
        "for i in range(33) :\n",
        "  for j in range(3) :\n",
        "    for k in range(2) :\n",
        "      td = w.loc[(w['District']==wdist.iloc[i])  & (w['Year']== wyr[j])  & (w['crop_season']==wsen[k]) ]\n",
        "      final.loc[countx] = [wdist.iloc[i],wyr[j],wsen[k],td.iloc[:,4].mean(),td.iloc[:,5].mean(),td.iloc[:,6].mean(),td.iloc[:,7].mean(),td.iloc[:,8].mean(),td.iloc[:,9].mean(),td.iloc[:,10].mean()]\n",
        "      countx = countx + 1\n",
        "\n",
        "print(\"___________________________________________________\")\n",
        "print(final)"
      ],
      "execution_count": 12,
      "outputs": [
        {
          "output_type": "stream",
          "name": "stdout",
          "text": [
            "___________________________________________________\n",
            "       District  Year Season   ...  Avg_Hum_Max  Avg_Wind_Min  Avg_Wind_Max\n",
            "0      ADILABAD  2019    rabi  ...    94.980191      0.040346      5.599180\n",
            "1      ADILABAD  2019  kharif  ...    96.054697      0.510117      9.234327\n",
            "2      ADILABAD  2018    rabi  ...    72.107745      0.087403     10.396759\n",
            "3      ADILABAD  2018  kharif  ...    90.720935      0.530668     13.494354\n",
            "4      ADILABAD  2017    rabi  ...    72.871629           NaN     10.095250\n",
            "..          ...   ...     ...  ...          ...           ...           ...\n",
            "193  NARAYANPET  2019  kharif  ...    94.066901      0.492387     11.604287\n",
            "194  NARAYANPET  2018    rabi  ...          NaN           NaN           NaN\n",
            "195  NARAYANPET  2018  kharif  ...          NaN           NaN           NaN\n",
            "196  NARAYANPET  2017    rabi  ...    81.405347           NaN      9.076298\n",
            "197  NARAYANPET  2017  kharif  ...    86.573097           NaN     10.750485\n",
            "\n",
            "[198 rows x 10 columns]\n"
          ]
        }
      ]
    },
    {
      "cell_type": "code",
      "metadata": {
        "id": "QlPRnrUGjybx",
        "colab": {
          "base_uri": "https://localhost:8080/"
        },
        "outputId": "fc009caf-3bfe-4584-9049-2f1206662699"
      },
      "source": [
        "print(yld2)\n",
        "cv = final.sort_values(['Year','District'],ascending=['True','False'])\n",
        "print(cv)"
      ],
      "execution_count": 13,
      "outputs": [
        {
          "output_type": "stream",
          "name": "stdout",
          "text": [
            "    SlNo       District Kharif  Rabi Total  Crop\n",
            "0      1       ADILABAD   2580  3801  2608  Rice\n",
            "1      2  KOMARAM BHEEM   2723  2573  2694   NaN\n",
            "2      3     MANCHERIAL   3109  3705  3314   NaN\n",
            "3      4         NIRMAL   3117  3025  3075   NaN\n",
            "4      5      NIZAMABAD   3944  4160  4059   NaN\n",
            "..   ...            ...    ...   ...   ...   ...\n",
            "572   28   NAGARKURNOOL    599   599   599   NaN\n",
            "573   29       NALGONDA    240   240   240   NaN\n",
            "574   30       SURYAPET    240     0   240   NaN\n",
            "575   31        KHAMMAM      0     0     0   NaN\n",
            "576  NaN          TOTAL    590   584   590   NaN\n",
            "\n",
            "[577 rows x 6 columns]\n",
            "                 District  Year  ... Avg_Wind_Min  Avg_Wind_Max\n",
            "4                ADILABAD  2017  ...          NaN     10.095250\n",
            "5                ADILABAD  2017  ...          NaN     12.779020\n",
            "52   BHADRADRI KOTHAGUDEM  2017  ...          NaN      8.906590\n",
            "53   BHADRADRI KOTHAGUDEM  2017  ...          NaN     10.149588\n",
            "130             HYDERABAD  2017  ...          NaN     10.046074\n",
            "..                    ...   ...  ...          ...           ...\n",
            "61            WARANGAL(R)  2019  ...     0.120681      9.281911\n",
            "66            WARANGAL(U)  2019  ...     0.005365      6.141133\n",
            "67            WARANGAL(U)  2019  ...     0.117221      8.933629\n",
            "114     YADADHRI(BHONGIR)  2019  ...     0.037030      6.621794\n",
            "115     YADADHRI(BHONGIR)  2019  ...     0.709756     11.073888\n",
            "\n",
            "[198 rows x 10 columns]\n"
          ]
        }
      ]
    },
    {
      "cell_type": "markdown",
      "metadata": {
        "id": "dW3fsSuN7fzq"
      },
      "source": [
        "# Random Forest Regression\n",
        "\n"
      ]
    },
    {
      "cell_type": "code",
      "metadata": {
        "colab": {
          "resources": {
            "http://localhost:8080/nbextensions/google.colab/files.js": {
              "data": "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",
              "ok": true,
              "headers": [
                [
                  "content-type",
                  "application/javascript"
                ]
              ],
              "status": 200,
              "status_text": ""
            }
          },
          "base_uri": "https://localhost:8080/",
          "height": 480
        },
        "id": "KyGRFy0S7_3O",
        "outputId": "1b009305-de2a-480e-c1ad-c1e43ae478de"
      },
      "source": [
        "upload=files.upload()\n",
        "sf = pd.read_excel(io.BytesIO(upload['setdata.xlsx']))\n",
        "sf"
      ],
      "execution_count": 5,
      "outputs": [
        {
          "output_type": "display_data",
          "data": {
            "text/html": [
              "\n",
              "     <input type=\"file\" id=\"files-7dd833cb-baba-4026-b41d-bc770bb0df74\" name=\"files[]\" multiple disabled\n",
              "        style=\"border:none\" />\n",
              "     <output id=\"result-7dd833cb-baba-4026-b41d-bc770bb0df74\">\n",
              "      Upload widget is only available when the cell has been executed in the\n",
              "      current browser session. Please rerun this cell to enable.\n",
              "      </output>\n",
              "      <script src=\"/nbextensions/google.colab/files.js\"></script> "
            ],
            "text/plain": [
              "<IPython.core.display.HTML object>"
            ]
          },
          "metadata": {}
        },
        {
          "output_type": "stream",
          "name": "stdout",
          "text": [
            "Saving setdata.xlsx to setdata.xlsx\n"
          ]
        },
        {
          "output_type": "execute_result",
          "data": {
            "text/html": [
              "<div>\n",
              "<style scoped>\n",
              "    .dataframe tbody tr th:only-of-type {\n",
              "        vertical-align: middle;\n",
              "    }\n",
              "\n",
              "    .dataframe tbody tr th {\n",
              "        vertical-align: top;\n",
              "    }\n",
              "\n",
              "    .dataframe thead th {\n",
              "        text-align: right;\n",
              "    }\n",
              "</style>\n",
              "<table border=\"1\" class=\"dataframe\">\n",
              "  <thead>\n",
              "    <tr style=\"text-align: right;\">\n",
              "      <th></th>\n",
              "      <th>Unnamed: 0</th>\n",
              "      <th>District</th>\n",
              "      <th>Year</th>\n",
              "      <th>Season</th>\n",
              "      <th>Avg_Temp_min</th>\n",
              "      <th>Avg_Temp_Max</th>\n",
              "      <th>Avg_Rain</th>\n",
              "      <th>Avg_Hum_Min</th>\n",
              "      <th>Avg_Hum_Max</th>\n",
              "      <th>Avg_Wind_Min</th>\n",
              "      <th>Avg_Wind_Max</th>\n",
              "      <th>RICE YIELD</th>\n",
              "    </tr>\n",
              "  </thead>\n",
              "  <tbody>\n",
              "    <tr>\n",
              "      <th>0</th>\n",
              "      <td>0</td>\n",
              "      <td>ADILABAD</td>\n",
              "      <td>2019</td>\n",
              "      <td>rabi</td>\n",
              "      <td>16.764026</td>\n",
              "      <td>29.979872</td>\n",
              "      <td>0.085519</td>\n",
              "      <td>50.530829</td>\n",
              "      <td>94.980191</td>\n",
              "      <td>0.040346</td>\n",
              "      <td>5.599180</td>\n",
              "      <td>3412</td>\n",
              "    </tr>\n",
              "    <tr>\n",
              "      <th>1</th>\n",
              "      <td>1</td>\n",
              "      <td>ADILABAD</td>\n",
              "      <td>2019</td>\n",
              "      <td>kharif</td>\n",
              "      <td>23.719535</td>\n",
              "      <td>31.248351</td>\n",
              "      <td>7.200226</td>\n",
              "      <td>70.316667</td>\n",
              "      <td>96.054697</td>\n",
              "      <td>0.510117</td>\n",
              "      <td>9.234327</td>\n",
              "      <td>3174</td>\n",
              "    </tr>\n",
              "    <tr>\n",
              "      <th>2</th>\n",
              "      <td>2</td>\n",
              "      <td>ADILABAD</td>\n",
              "      <td>2018</td>\n",
              "      <td>rabi</td>\n",
              "      <td>16.425552</td>\n",
              "      <td>32.585596</td>\n",
              "      <td>0.231788</td>\n",
              "      <td>29.148032</td>\n",
              "      <td>72.107745</td>\n",
              "      <td>0.087403</td>\n",
              "      <td>10.396759</td>\n",
              "      <td>3624</td>\n",
              "    </tr>\n",
              "    <tr>\n",
              "      <th>3</th>\n",
              "      <td>3</td>\n",
              "      <td>ADILABAD</td>\n",
              "      <td>2018</td>\n",
              "      <td>kharif</td>\n",
              "      <td>22.643248</td>\n",
              "      <td>31.597606</td>\n",
              "      <td>8.386721</td>\n",
              "      <td>59.850542</td>\n",
              "      <td>90.720935</td>\n",
              "      <td>0.530668</td>\n",
              "      <td>13.494354</td>\n",
              "      <td>2398</td>\n",
              "    </tr>\n",
              "    <tr>\n",
              "      <th>4</th>\n",
              "      <td>4</td>\n",
              "      <td>ADILABAD</td>\n",
              "      <td>2017</td>\n",
              "      <td>rabi</td>\n",
              "      <td>15.538707</td>\n",
              "      <td>32.816461</td>\n",
              "      <td>0.012771</td>\n",
              "      <td>27.845470</td>\n",
              "      <td>72.871629</td>\n",
              "      <td>NaN</td>\n",
              "      <td>10.095250</td>\n",
              "      <td>3801</td>\n",
              "    </tr>\n",
              "    <tr>\n",
              "      <th>...</th>\n",
              "      <td>...</td>\n",
              "      <td>...</td>\n",
              "      <td>...</td>\n",
              "      <td>...</td>\n",
              "      <td>...</td>\n",
              "      <td>...</td>\n",
              "      <td>...</td>\n",
              "      <td>...</td>\n",
              "      <td>...</td>\n",
              "      <td>...</td>\n",
              "      <td>...</td>\n",
              "      <td>...</td>\n",
              "    </tr>\n",
              "    <tr>\n",
              "      <th>193</th>\n",
              "      <td>193</td>\n",
              "      <td>NARAYANPET</td>\n",
              "      <td>2019</td>\n",
              "      <td>kharif</td>\n",
              "      <td>23.272432</td>\n",
              "      <td>31.508820</td>\n",
              "      <td>5.146933</td>\n",
              "      <td>68.007354</td>\n",
              "      <td>94.066901</td>\n",
              "      <td>0.492387</td>\n",
              "      <td>11.604287</td>\n",
              "      <td>2438</td>\n",
              "    </tr>\n",
              "    <tr>\n",
              "      <th>194</th>\n",
              "      <td>194</td>\n",
              "      <td>NARAYANPET</td>\n",
              "      <td>2018</td>\n",
              "      <td>rabi</td>\n",
              "      <td>NaN</td>\n",
              "      <td>NaN</td>\n",
              "      <td>NaN</td>\n",
              "      <td>NaN</td>\n",
              "      <td>NaN</td>\n",
              "      <td>NaN</td>\n",
              "      <td>NaN</td>\n",
              "      <td>0</td>\n",
              "    </tr>\n",
              "    <tr>\n",
              "      <th>195</th>\n",
              "      <td>195</td>\n",
              "      <td>NARAYANPET</td>\n",
              "      <td>2018</td>\n",
              "      <td>kharif</td>\n",
              "      <td>NaN</td>\n",
              "      <td>NaN</td>\n",
              "      <td>NaN</td>\n",
              "      <td>NaN</td>\n",
              "      <td>NaN</td>\n",
              "      <td>NaN</td>\n",
              "      <td>NaN</td>\n",
              "      <td>0</td>\n",
              "    </tr>\n",
              "    <tr>\n",
              "      <th>196</th>\n",
              "      <td>196</td>\n",
              "      <td>NARAYANPET</td>\n",
              "      <td>2017</td>\n",
              "      <td>rabi</td>\n",
              "      <td>17.449459</td>\n",
              "      <td>32.866709</td>\n",
              "      <td>0.058820</td>\n",
              "      <td>32.801082</td>\n",
              "      <td>81.405347</td>\n",
              "      <td>NaN</td>\n",
              "      <td>9.076298</td>\n",
              "      <td>0</td>\n",
              "    </tr>\n",
              "    <tr>\n",
              "      <th>197</th>\n",
              "      <td>197</td>\n",
              "      <td>NARAYANPET</td>\n",
              "      <td>2017</td>\n",
              "      <td>kharif</td>\n",
              "      <td>24.037324</td>\n",
              "      <td>32.354102</td>\n",
              "      <td>3.552919</td>\n",
              "      <td>58.799852</td>\n",
              "      <td>86.573097</td>\n",
              "      <td>NaN</td>\n",
              "      <td>10.750485</td>\n",
              "      <td>0</td>\n",
              "    </tr>\n",
              "  </tbody>\n",
              "</table>\n",
              "<p>198 rows × 12 columns</p>\n",
              "</div>"
            ],
            "text/plain": [
              "     Unnamed: 0    District  Year  ... Avg_Wind_Min  Avg_Wind_Max  RICE YIELD\n",
              "0             0    ADILABAD  2019  ...     0.040346      5.599180        3412\n",
              "1             1    ADILABAD  2019  ...     0.510117      9.234327        3174\n",
              "2             2    ADILABAD  2018  ...     0.087403     10.396759        3624\n",
              "3             3    ADILABAD  2018  ...     0.530668     13.494354        2398\n",
              "4             4    ADILABAD  2017  ...          NaN     10.095250        3801\n",
              "..          ...         ...   ...  ...          ...           ...         ...\n",
              "193         193  NARAYANPET  2019  ...     0.492387     11.604287        2438\n",
              "194         194  NARAYANPET  2018  ...          NaN           NaN           0\n",
              "195         195  NARAYANPET  2018  ...          NaN           NaN           0\n",
              "196         196  NARAYANPET  2017  ...          NaN      9.076298           0\n",
              "197         197  NARAYANPET  2017  ...          NaN     10.750485           0\n",
              "\n",
              "[198 rows x 12 columns]"
            ]
          },
          "metadata": {},
          "execution_count": 5
        }
      ]
    },
    {
      "cell_type": "code",
      "metadata": {
        "id": "USZ1raG_8g8y",
        "colab": {
          "base_uri": "https://localhost:8080/",
          "height": 874
        },
        "outputId": "2d5fa04a-a424-4006-9400-94d422571899"
      },
      "source": [
        "fs = sf.loc[(sf['Year']== wyr[1]) | (sf['Year']== wyr[2])]\n",
        "fs = fs.sort_values('Year', ascending=['True'])\n",
        "print(fs.iloc[:,0:4])\n",
        "fs['District'] = fs['District'].astype('category')\n",
        "fs.iloc[:,3] = fs.iloc[:,3].astype('category')\n",
        "labelencoder = LabelEncoder()\n",
        "#fs=fs.apply(LabelEncoder().fit_transform)\n",
        "fs['District'] = labelencoder.fit_transform(fs['District'])\n",
        "fs.iloc[:,3] = labelencoder.fit_transform(fs.iloc[:,3])\n",
        "fs = fs.fillna(0)\n",
        "fs = fs.astype(int)\n",
        "fs = fs.iloc[:,1:12]\n",
        "z = sf.loc[(sf['Year']== wyr[0])]\n",
        "z['District'] = labelencoder.fit_transform(z['District'])\n",
        "z.iloc[:,3] = labelencoder.fit_transform(z.iloc[:,3])\n",
        "z = z.fillna(0)\n",
        "z = z.astype(int)\n",
        "fs = fs.iloc[:,0:12]\n",
        "z  = z.iloc[:,1:12]    \n",
        "z                                   "
      ],
      "execution_count": 14,
      "outputs": [
        {
          "output_type": "stream",
          "name": "stdout",
          "text": [
            "     Unnamed: 0          District  Year Season \n",
            "197         197        NARAYANPET  2017  kharif\n",
            "89           89         KAMAREDDY  2017  kharif\n",
            "88           88         KAMAREDDY  2017    rabi\n",
            "154         154         JOGULAMBA  2017    rabi\n",
            "83           83  RAJANNA SIRCILLA  2017  kharif\n",
            "..          ...               ...   ...     ...\n",
            "75           75        KARIMNAGAR  2018  kharif\n",
            "74           74        KARIMNAGAR  2018    rabi\n",
            "69           69       WARANGAL(U)  2018  kharif\n",
            "93           93        SANGAREDDY  2018  kharif\n",
            "99           99             MEDAK  2018  kharif\n",
            "\n",
            "[132 rows x 4 columns]\n"
          ]
        },
        {
          "output_type": "stream",
          "name": "stderr",
          "text": [
            "/usr/local/lib/python3.7/dist-packages/ipykernel_launcher.py:14: SettingWithCopyWarning: \n",
            "A value is trying to be set on a copy of a slice from a DataFrame.\n",
            "Try using .loc[row_indexer,col_indexer] = value instead\n",
            "\n",
            "See the caveats in the documentation: https://pandas.pydata.org/pandas-docs/stable/user_guide/indexing.html#returning-a-view-versus-a-copy\n",
            "  \n",
            "/usr/local/lib/python3.7/dist-packages/pandas/core/indexing.py:1743: SettingWithCopyWarning: \n",
            "A value is trying to be set on a copy of a slice from a DataFrame.\n",
            "Try using .loc[row_indexer,col_indexer] = value instead\n",
            "\n",
            "See the caveats in the documentation: https://pandas.pydata.org/pandas-docs/stable/user_guide/indexing.html#returning-a-view-versus-a-copy\n",
            "  isetter(ilocs[0], value)\n"
          ]
        },
        {
          "output_type": "execute_result",
          "data": {
            "text/html": [
              "<div>\n",
              "<style scoped>\n",
              "    .dataframe tbody tr th:only-of-type {\n",
              "        vertical-align: middle;\n",
              "    }\n",
              "\n",
              "    .dataframe tbody tr th {\n",
              "        vertical-align: top;\n",
              "    }\n",
              "\n",
              "    .dataframe thead th {\n",
              "        text-align: right;\n",
              "    }\n",
              "</style>\n",
              "<table border=\"1\" class=\"dataframe\">\n",
              "  <thead>\n",
              "    <tr style=\"text-align: right;\">\n",
              "      <th></th>\n",
              "      <th>District</th>\n",
              "      <th>Year</th>\n",
              "      <th>Season</th>\n",
              "      <th>Avg_Temp_min</th>\n",
              "      <th>Avg_Temp_Max</th>\n",
              "      <th>Avg_Rain</th>\n",
              "      <th>Avg_Hum_Min</th>\n",
              "      <th>Avg_Hum_Max</th>\n",
              "      <th>Avg_Wind_Min</th>\n",
              "      <th>Avg_Wind_Max</th>\n",
              "      <th>RICE YIELD</th>\n",
              "    </tr>\n",
              "  </thead>\n",
              "  <tbody>\n",
              "    <tr>\n",
              "      <th>0</th>\n",
              "      <td>0</td>\n",
              "      <td>2019</td>\n",
              "      <td>1</td>\n",
              "      <td>16</td>\n",
              "      <td>29</td>\n",
              "      <td>0</td>\n",
              "      <td>50</td>\n",
              "      <td>94</td>\n",
              "      <td>0</td>\n",
              "      <td>5</td>\n",
              "      <td>3412</td>\n",
              "    </tr>\n",
              "    <tr>\n",
              "      <th>1</th>\n",
              "      <td>0</td>\n",
              "      <td>2019</td>\n",
              "      <td>0</td>\n",
              "      <td>23</td>\n",
              "      <td>31</td>\n",
              "      <td>7</td>\n",
              "      <td>70</td>\n",
              "      <td>96</td>\n",
              "      <td>0</td>\n",
              "      <td>9</td>\n",
              "      <td>3174</td>\n",
              "    </tr>\n",
              "    <tr>\n",
              "      <th>6</th>\n",
              "      <td>10</td>\n",
              "      <td>2019</td>\n",
              "      <td>1</td>\n",
              "      <td>17</td>\n",
              "      <td>30</td>\n",
              "      <td>0</td>\n",
              "      <td>54</td>\n",
              "      <td>94</td>\n",
              "      <td>0</td>\n",
              "      <td>4</td>\n",
              "      <td>2347</td>\n",
              "    </tr>\n",
              "    <tr>\n",
              "      <th>7</th>\n",
              "      <td>10</td>\n",
              "      <td>2019</td>\n",
              "      <td>0</td>\n",
              "      <td>24</td>\n",
              "      <td>31</td>\n",
              "      <td>9</td>\n",
              "      <td>72</td>\n",
              "      <td>95</td>\n",
              "      <td>0</td>\n",
              "      <td>7</td>\n",
              "      <td>2091</td>\n",
              "    </tr>\n",
              "    <tr>\n",
              "      <th>12</th>\n",
              "      <td>12</td>\n",
              "      <td>2019</td>\n",
              "      <td>1</td>\n",
              "      <td>18</td>\n",
              "      <td>30</td>\n",
              "      <td>0</td>\n",
              "      <td>55</td>\n",
              "      <td>96</td>\n",
              "      <td>0</td>\n",
              "      <td>4</td>\n",
              "      <td>3658</td>\n",
              "    </tr>\n",
              "    <tr>\n",
              "      <th>...</th>\n",
              "      <td>...</td>\n",
              "      <td>...</td>\n",
              "      <td>...</td>\n",
              "      <td>...</td>\n",
              "      <td>...</td>\n",
              "      <td>...</td>\n",
              "      <td>...</td>\n",
              "      <td>...</td>\n",
              "      <td>...</td>\n",
              "      <td>...</td>\n",
              "      <td>...</td>\n",
              "    </tr>\n",
              "    <tr>\n",
              "      <th>181</th>\n",
              "      <td>9</td>\n",
              "      <td>2019</td>\n",
              "      <td>0</td>\n",
              "      <td>25</td>\n",
              "      <td>33</td>\n",
              "      <td>6</td>\n",
              "      <td>68</td>\n",
              "      <td>94</td>\n",
              "      <td>0</td>\n",
              "      <td>9</td>\n",
              "      <td>3586</td>\n",
              "    </tr>\n",
              "    <tr>\n",
              "      <th>186</th>\n",
              "      <td>16</td>\n",
              "      <td>2019</td>\n",
              "      <td>1</td>\n",
              "      <td>19</td>\n",
              "      <td>31</td>\n",
              "      <td>0</td>\n",
              "      <td>57</td>\n",
              "      <td>96</td>\n",
              "      <td>0</td>\n",
              "      <td>5</td>\n",
              "      <td>3324</td>\n",
              "    </tr>\n",
              "    <tr>\n",
              "      <th>187</th>\n",
              "      <td>16</td>\n",
              "      <td>2019</td>\n",
              "      <td>0</td>\n",
              "      <td>24</td>\n",
              "      <td>32</td>\n",
              "      <td>12</td>\n",
              "      <td>71</td>\n",
              "      <td>95</td>\n",
              "      <td>0</td>\n",
              "      <td>7</td>\n",
              "      <td>3646</td>\n",
              "    </tr>\n",
              "    <tr>\n",
              "      <th>192</th>\n",
              "      <td>19</td>\n",
              "      <td>2019</td>\n",
              "      <td>1</td>\n",
              "      <td>19</td>\n",
              "      <td>31</td>\n",
              "      <td>0</td>\n",
              "      <td>47</td>\n",
              "      <td>93</td>\n",
              "      <td>0</td>\n",
              "      <td>7</td>\n",
              "      <td>2592</td>\n",
              "    </tr>\n",
              "    <tr>\n",
              "      <th>193</th>\n",
              "      <td>19</td>\n",
              "      <td>2019</td>\n",
              "      <td>0</td>\n",
              "      <td>23</td>\n",
              "      <td>31</td>\n",
              "      <td>5</td>\n",
              "      <td>68</td>\n",
              "      <td>94</td>\n",
              "      <td>0</td>\n",
              "      <td>11</td>\n",
              "      <td>2438</td>\n",
              "    </tr>\n",
              "  </tbody>\n",
              "</table>\n",
              "<p>66 rows × 11 columns</p>\n",
              "</div>"
            ],
            "text/plain": [
              "     District  Year  Season   ...  Avg_Wind_Min  Avg_Wind_Max  RICE YIELD\n",
              "0           0  2019        1  ...             0             5        3412\n",
              "1           0  2019        0  ...             0             9        3174\n",
              "6          10  2019        1  ...             0             4        2347\n",
              "7          10  2019        0  ...             0             7        2091\n",
              "12         12  2019        1  ...             0             4        3658\n",
              "..        ...   ...      ...  ...           ...           ...         ...\n",
              "181         9  2019        0  ...             0             9        3586\n",
              "186        16  2019        1  ...             0             5        3324\n",
              "187        16  2019        0  ...             0             7        3646\n",
              "192        19  2019        1  ...             0             7        2592\n",
              "193        19  2019        0  ...             0            11        2438\n",
              "\n",
              "[66 rows x 11 columns]"
            ]
          },
          "metadata": {},
          "execution_count": 14
        }
      ]
    },
    {
      "cell_type": "code",
      "metadata": {
        "colab": {
          "base_uri": "https://localhost:8080/"
        },
        "id": "nY02Es3j7sIF",
        "outputId": "1cd94eb2-1bfe-4ea7-c8e3-aaa8c764042a"
      },
      "source": [
        "x=fs.iloc[:,0:10].values\n",
        "y=fs.iloc[:,10].values\n",
        "regressor=RandomForestRegressor(n_estimators=100,random_state=0,n_jobs=1)\n",
        "\n",
        "regressor.fit(x,y)"
      ],
      "execution_count": 46,
      "outputs": [
        {
          "output_type": "execute_result",
          "data": {
            "text/plain": [
              "RandomForestRegressor(bootstrap=True, ccp_alpha=0.0, criterion='mse',\n",
              "                      max_depth=None, max_features='auto', max_leaf_nodes=None,\n",
              "                      max_samples=None, min_impurity_decrease=0.0,\n",
              "                      min_impurity_split=None, min_samples_leaf=1,\n",
              "                      min_samples_split=2, min_weight_fraction_leaf=0.0,\n",
              "                      n_estimators=100, n_jobs=1, oob_score=False,\n",
              "                      random_state=0, verbose=0, warm_start=False)"
            ]
          },
          "metadata": {},
          "execution_count": 46
        }
      ]
    },
    {
      "cell_type": "code",
      "metadata": {
        "colab": {
          "base_uri": "https://localhost:8080/"
        },
        "id": "U4HFSXvaJgld",
        "outputId": "eb66dfa7-0f44-4835-f57b-c0c7edebc1b7"
      },
      "source": [
        "from sklearn.model_selection import train_test_split\n",
        "x_train, x_test, y_train, y_test = train_test_split(x, y, test_size = 0.2, random_state = 0)\n",
        "\n",
        "y_pred=regressor.predict(x_test)\n",
        "y_pred"
      ],
      "execution_count": 47,
      "outputs": [
        {
          "output_type": "execute_result",
          "data": {
            "text/plain": [
              "array([2520.98, 2336.77, 3213.82, 3886.06, 3060.51, 2943.48,  760.73,\n",
              "       3869.35, 3441.5 , 2422.44, 3463.3 , 3456.62, 2841.06, 3961.11,\n",
              "       3385.44, 2815.71, 2942.6 , 2744.45, 3640.76, 3261.76, 3432.38,\n",
              "       3234.99, 3179.16, 3219.36, 2915.15, 3696.99, 2588.21])"
            ]
          },
          "metadata": {},
          "execution_count": 47
        }
      ]
    },
    {
      "cell_type": "code",
      "metadata": {
        "colab": {
          "base_uri": "https://localhost:8080/"
        },
        "id": "qn2siURfMyip",
        "outputId": "9f62de53-de67-4ac3-9179-b5f748b9d2c6"
      },
      "source": [
        "from sklearn.metrics import r2_score \n",
        "print(r2_score(y_test, y_pred))\n",
        "print(np.concatenate((y_pred.reshape(len(y_pred),1),y_test.reshape(len(y_test),1)),1))"
      ],
      "execution_count": 48,
      "outputs": [
        {
          "output_type": "stream",
          "name": "stdout",
          "text": [
            "0.9105310995279731\n",
            "[[2520.98 2473.  ]\n",
            " [2336.77 2021.  ]\n",
            " [3213.82 3436.  ]\n",
            " [3886.06 4235.  ]\n",
            " [3060.51 3064.  ]\n",
            " [2943.48 3083.  ]\n",
            " [ 760.73    0.  ]\n",
            " [3869.35 4063.  ]\n",
            " [3441.5  3573.  ]\n",
            " [2422.44 2383.  ]\n",
            " [3463.3  3500.  ]\n",
            " [3456.62 3688.  ]\n",
            " [2841.06 3025.  ]\n",
            " [3961.11 4088.  ]\n",
            " [3385.44 3087.  ]\n",
            " [2815.71 3171.  ]\n",
            " [2942.6  2918.  ]\n",
            " [2744.45 2719.  ]\n",
            " [3640.76 3789.  ]\n",
            " [3261.76 3369.  ]\n",
            " [3432.38 3789.  ]\n",
            " [3234.99 3436.  ]\n",
            " [3179.16 3515.  ]\n",
            " [3219.36 3369.  ]\n",
            " [2915.15 2815.  ]\n",
            " [3696.99 3868.  ]\n",
            " [2588.21 2486.  ]]\n"
          ]
        }
      ]
    },
    {
      "cell_type": "code",
      "metadata": {
        "colab": {
          "base_uri": "https://localhost:8080/"
        },
        "id": "LCfVOgsmaZfM",
        "outputId": "4d865d70-edf6-4b88-a533-ee7b94243132"
      },
      "source": [
        "print(y_train)\n",
        "regressor.predict(x_train)"
      ],
      "execution_count": 44,
      "outputs": [
        {
          "output_type": "stream",
          "name": "stdout",
          "text": [
            "[3789 3423 2730 4127 2463 3389 2185 3103    0 2580 3234 1934    0 2332\n",
            " 3742 2789 3234 3801 2657 2723 2518 3442 3510 3706 3621 3281 3369 3769\n",
            " 2476 3608 4650 3304 3772 4215 2721 2359 3932 4056    0 3944 3741 3165\n",
            " 3117 3789 3420 4160 3986 3705 3034 2398    0    0 2648    0 3302 3062\n",
            " 2630 2679 3847 3295 3506 1788 2511 3064 3082 3980 3497 2553 2630 2573\n",
            " 4238    0 3633 2878    0    0 2544 2630 2908    0 3773 3837 3436 2817\n",
            " 3744 3109 4446 3944 3734 4365 4111 2796 2476 3624 2276 3166 3201 3310\n",
            " 3887 2954 2878 1905 3117 3529    0]\n"
          ]
        },
        {
          "output_type": "execute_result",
          "data": {
            "text/plain": [
              "array([3452.39, 3250.23, 2728.33, 3961.42, 2644.89, 3237.91, 2228.71,\n",
              "       3012.89,  921.81, 2766.49, 3348.83, 2256.48, 1240.99, 2443.88,\n",
              "       3702.3 , 2628.75, 3435.73, 3071.81, 3052.94, 2819.05, 2931.96,\n",
              "       3484.95, 3128.91, 3700.92, 3635.73, 3146.12, 3173.52, 3607.83,\n",
              "       2644.67, 3543.45, 4211.91, 3101.17, 3543.14, 4037.74, 3141.63,\n",
              "       2692.66, 3632.85, 3804.48, 1029.02, 3559.15, 3619.98, 3082.17,\n",
              "       2713.7 , 3530.91, 3193.28, 3951.91, 3840.42, 3845.47, 2900.16,\n",
              "       2356.03,  853.39,  968.85, 2907.46, 1132.69, 3280.14, 3053.61,\n",
              "       2885.32, 2460.1 , 3834.23, 3383.27, 3252.  , 2091.17, 2624.77,\n",
              "       3028.81, 3223.29, 3771.03, 3522.29, 2582.24, 2470.34, 2963.56,\n",
              "       3952.73,    0.  , 3531.99, 2792.15,    0.  ,    0.  , 2904.57,\n",
              "       2683.52, 2784.68,    0.  , 3580.7 , 3762.07, 3304.38, 3266.57,\n",
              "       3696.75, 3147.79, 3942.24, 3625.7 , 3676.65, 4141.96, 3943.09,\n",
              "       2946.93, 2615.88, 3199.7 , 2122.71, 2850.03, 2661.52, 3156.09,\n",
              "       3843.36, 3040.49, 3042.81, 2272.37, 3390.47, 3501.77, 1423.8 ])"
            ]
          },
          "metadata": {},
          "execution_count": 44
        }
      ]
    },
    {
      "cell_type": "markdown",
      "metadata": {
        "id": "gmSwig7s8ovZ"
      },
      "source": [
        "# **ANASLYSIS VISUALIZATION**"
      ]
    },
    {
      "cell_type": "code",
      "metadata": {
        "colab": {
          "base_uri": "https://localhost:8080/",
          "height": 295
        },
        "id": "psdXrqADgOmK",
        "outputId": "a635c1d2-e648-47b8-fe2e-4743fe321120"
      },
      "source": [
        "import matplotlib.pyplot as plt\n",
        "plt.scatter(y_pred, y_test, color = 'red')\n",
        "plt.plot(y_pred, y_test, color = 'blue')\n",
        "plt.title('Yield crop graph')\n",
        "plt.xlabel('predicted values',color = 'indigo')\n",
        "plt.ylabel('Test values',color = 'green')\n",
        "plt.show()"
      ],
      "execution_count": 43,
      "outputs": [
        {
          "output_type": "display_data",
          "data": {
            "image/png": "[encoded data removed]",
            "text/plain": [
              "<Figure size 432x288 with 1 Axes>"
            ]
          },
          "metadata": {
            "needs_background": "light"
          }
        }
      ]
    },
    {
      "cell_type": "code",
      "metadata": {
        "colab": {
          "base_uri": "https://localhost:8080/",
          "height": 351
        },
        "id": "9AebOEbGgmmA",
        "outputId": "1c254430-1ff9-42b4-9b4f-c50826e60125"
      },
      "source": [
        "import seaborn as sns\n",
        "sns.distplot(fs['RICE YIELD'], hist=True, kde=True, \n",
        "             bins=int(180/5), color = 'darkblue',\n",
        "             kde_kws={'linewidth': 4})"
      ],
      "execution_count": 20,
      "outputs": [
        {
          "output_type": "stream",
          "name": "stderr",
          "text": [
            "/usr/local/lib/python3.7/dist-packages/seaborn/distributions.py:2619: FutureWarning: `distplot` is a deprecated function and will be removed in a future version. Please adapt your code to use either `displot` (a figure-level function with similar flexibility) or `histplot` (an axes-level function for histograms).\n",
            "  warnings.warn(msg, FutureWarning)\n"
          ]
        },
        {
          "output_type": "execute_result",
          "data": {
            "text/plain": [
              "<matplotlib.axes._subplots.AxesSubplot at 0x7fbb5ce84e50>"
            ]
          },
          "metadata": {},
          "execution_count": 20
        },
        {
          "output_type": "display_data",
          "data": {
            "image/png": "[encoded data removed]",
            "text/plain": [
              "<Figure size 432x288 with 1 Axes>"
            ]
          },
          "metadata": {
            "needs_background": "light"
          }
        }
      ]
    },
    {
      "cell_type": "code",
      "metadata": {
        "colab": {
          "base_uri": "https://localhost:8080/",
          "height": 281
        },
        "id": "-RGoLIy6hYNb",
        "outputId": "08e93e8c-761e-4f3b-adee-963c8e0d4039"
      },
      "source": [
        "dm = pd.DataFrame({'Actual': y_test, 'Predicted': y_pred}).reset_index()\n",
        "x_axis=dm.index\n",
        "y_axis=dm.Actual\n",
        "y1_axis=dm.Predicted\n",
        "plt.plot(x_axis,y_axis)\n",
        "plt.plot(x_axis,y1_axis)\n",
        "plt.title(\"Actual vs Predicted\")\n",
        "plt.legend([\"actual \",\"predicted\"])\n",
        "b=plt.show()\n",
        "b"
      ],
      "execution_count": 33,
      "outputs": [
        {
          "output_type": "display_data",
          "data": {
            "image/png": "[encoded data removed]",
            "text/plain": [
              "<Figure size 432x288 with 1 Axes>"
            ]
          },
          "metadata": {
            "needs_background": "light"
          }
        }
      ]
    },
    {
      "cell_type": "code",
      "metadata": {
        "colab": {
          "base_uri": "https://localhost:8080/",
          "height": 1000
        },
        "id": "ZDfpt1W4hmCH",
        "outputId": "cac4acd4-48ff-4b22-97fc-3421f9966ca5"
      },
      "source": [
        "fs.hist(figsize = (10,15))\n"
      ],
      "execution_count": 22,
      "outputs": [
        {
          "output_type": "execute_result",
          "data": {
            "text/plain": [
              "array([[<matplotlib.axes._subplots.AxesSubplot object at 0x7fbb5a173e90>,\n",
              "        <matplotlib.axes._subplots.AxesSubplot object at 0x7fbb5a1265d0>,\n",
              "        <matplotlib.axes._subplots.AxesSubplot object at 0x7fbb5a0dbc50>],\n",
              "       [<matplotlib.axes._subplots.AxesSubplot object at 0x7fbb5a09c310>,\n",
              "        <matplotlib.axes._subplots.AxesSubplot object at 0x7fbb5a05bbd0>,\n",
              "        <matplotlib.axes._subplots.AxesSubplot object at 0x7fbb5a01d290>],\n",
              "       [<matplotlib.axes._subplots.AxesSubplot object at 0x7fbb59fd3990>,\n",
              "        <matplotlib.axes._subplots.AxesSubplot object at 0x7fbb59f8af90>,\n",
              "        <matplotlib.axes._subplots.AxesSubplot object at 0x7fbb59f96050>],\n",
              "       [<matplotlib.axes._subplots.AxesSubplot object at 0x7fbb59f4c750>,\n",
              "        <matplotlib.axes._subplots.AxesSubplot object at 0x7fbb5a0fab90>,\n",
              "        <matplotlib.axes._subplots.AxesSubplot object at 0x7fbb59f96c90>]],\n",
              "      dtype=object)"
            ]
          },
          "metadata": {},
          "execution_count": 22
        },
        {
          "output_type": "display_data",
          "data": {
            "image/png": "[encoded data removed]",
            "text/plain": [
              "<Figure size 720x1080 with 12 Axes>"
            ]
          },
          "metadata": {
            "needs_background": "light"
          }
        }
      ]
    },
    {
      "cell_type": "code",
      "metadata": {
        "colab": {
          "base_uri": "https://localhost:8080/",
          "height": 607
        },
        "id": "IFk36RsRhwj1",
        "outputId": "9732b1d3-40ab-41ab-ee57-fe858647c481"
      },
      "source": [
        "corrmat = fs.corr()\n",
        "f, ax = plt.subplots(figsize=(12, 9))\n",
        "sns.heatmap(corrmat, vmax=.8, square=True);"
      ],
      "execution_count": 34,
      "outputs": [
        {
          "output_type": "display_data",
          "data": {
            "image/png": "[encoded data removed]",
            "text/plain": [
              "<Figure size 864x648 with 2 Axes>"
            ]
          },
          "metadata": {
            "needs_background": "light"
          }
        }
      ]
    },
    {
      "cell_type": "code",
      "metadata": {
        "colab": {
          "base_uri": "https://localhost:8080/",
          "height": 296
        },
        "id": "Gts1y2S5h3Xm",
        "outputId": "392cd2ff-52c8-46ee-f9d4-a773dcabc6d2"
      },
      "source": [
        "sns.boxplot(x=fs['RICE YIELD'])"
      ],
      "execution_count": 24,
      "outputs": [
        {
          "output_type": "execute_result",
          "data": {
            "text/plain": [
              "<matplotlib.axes._subplots.AxesSubplot at 0x7fbb59de3fd0>"
            ]
          },
          "metadata": {},
          "execution_count": 24
        },
        {
          "output_type": "display_data",
          "data": {
            "image/png": "[encoded data removed]",
            "text/plain": [
              "<Figure size 432x288 with 1 Axes>"
            ]
          },
          "metadata": {
            "needs_background": "light"
          }
        }
      ]
    }
  ]
}